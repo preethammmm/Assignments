{
  "nbformat": 4,
  "nbformat_minor": 0,
  "metadata": {
    "colab": {
      "provenance": [],
      "authorship_tag": "ABX9TyPK9EyhR++nIJWqtFacNTgP",
      "include_colab_link": true
    },
    "kernelspec": {
      "name": "python3",
      "display_name": "Python 3"
    },
    "language_info": {
      "name": "python"
    }
  },
  "cells": [
    {
      "cell_type": "markdown",
      "metadata": {
        "id": "view-in-github",
        "colab_type": "text"
      },
      "source": [
        "<a href=\"https://colab.research.google.com/github/preethammmm/Assignments/blob/main/Regular_Expressions_040325.ipynb\" target=\"_parent\"><img src=\"https://colab.research.google.com/assets/colab-badge.svg\" alt=\"Open In Colab\"/></a>"
      ]
    },
    {
      "cell_type": "code",
      "execution_count": 1,
      "metadata": {
        "id": "5aeiyoIiUfw3"
      },
      "outputs": [],
      "source": [
        "import re"
      ]
    },
    {
      "cell_type": "code",
      "source": [
        "test_string = '123abc567abcABC'"
      ],
      "metadata": {
        "id": "0lAqd-mzVlW9"
      },
      "execution_count": 2,
      "outputs": []
    },
    {
      "cell_type": "code",
      "source": [
        "#finditer() - match object, if not no error is returned\n",
        "pattern = re.compile(r'abc')\n",
        "matches = pattern.finditer(test_string)\n",
        "for match in matches:\n",
        "    print(match)"
      ],
      "metadata": {
        "colab": {
          "base_uri": "https://localhost:8080/"
        },
        "id": "Y12YqY6tVwHQ",
        "outputId": "d4303985-8c58-4d40-b916-f58217a93d9a"
      },
      "execution_count": 7,
      "outputs": [
        {
          "output_type": "stream",
          "name": "stdout",
          "text": [
            "<re.Match object; span=(3, 6), match='abc'>\n",
            "<re.Match object; span=(9, 12), match='abc'>\n"
          ]
        }
      ]
    },
    {
      "cell_type": "code",
      "source": [
        "matches = re.finditer(r\"abc\", test_string)\n",
        "for match in matches:\n",
        "  print(match) #matching object and index is returned"
      ],
      "metadata": {
        "colab": {
          "base_uri": "https://localhost:8080/"
        },
        "id": "g24QY2OBV5sg",
        "outputId": "f6f02d0d-b312-464b-f319-884fea0dc2dd"
      },
      "execution_count": 6,
      "outputs": [
        {
          "output_type": "stream",
          "name": "stdout",
          "text": [
            "<re.Match object; span=(3, 6), match='abc'>\n",
            "<re.Match object; span=(9, 12), match='abc'>\n"
          ]
        }
      ]
    },
    {
      "cell_type": "code",
      "source": [
        "#findall()\n",
        "matches = re.findall(r\"abc\", test_string)\n",
        "for match in matches:\n",
        "  print(match) #only matching object is returned"
      ],
      "metadata": {
        "colab": {
          "base_uri": "https://localhost:8080/"
        },
        "id": "nEEmPm4mWfma",
        "outputId": "23be36e5-6f20-43c4-8230-95b0b6e484f4"
      },
      "execution_count": 12,
      "outputs": [
        {
          "output_type": "stream",
          "name": "stdout",
          "text": [
            "abc\n",
            "abc\n"
          ]
        }
      ]
    },
    {
      "cell_type": "code",
      "source": [
        "#match() - returns first match at begining of string, if not None\n",
        "match = re.match(r\"ABC\", test_string)\n",
        "print(match)"
      ],
      "metadata": {
        "colab": {
          "base_uri": "https://localhost:8080/"
        },
        "id": "LiA_YbdvXZPn",
        "outputId": "19a92a97-724f-4a22-984f-e68de928af2b"
      },
      "execution_count": 18,
      "outputs": [
        {
          "output_type": "stream",
          "name": "stdout",
          "text": [
            "None\n"
          ]
        }
      ]
    },
    {
      "cell_type": "code",
      "source": [
        "match = re.match(r\"12\", test_string)\n",
        "print(match)"
      ],
      "metadata": {
        "colab": {
          "base_uri": "https://localhost:8080/"
        },
        "id": "hc084J-xX_92",
        "outputId": "2175dcbb-2de5-444b-bbac-9bb3c5ac0112"
      },
      "execution_count": 21,
      "outputs": [
        {
          "output_type": "stream",
          "name": "stdout",
          "text": [
            "<re.Match object; span=(0, 2), match='12'>\n"
          ]
        }
      ]
    },
    {
      "cell_type": "code",
      "source": [
        "#search() - returns first matching string at any index/location\n",
        "match = re.search(r\"abc\", test_string)\n",
        "print(match)"
      ],
      "metadata": {
        "colab": {
          "base_uri": "https://localhost:8080/"
        },
        "id": "vVVzn8CXYnSa",
        "outputId": "64c2b02b-468d-4b72-a3a7-e5c774c69351"
      },
      "execution_count": 22,
      "outputs": [
        {
          "output_type": "stream",
          "name": "stdout",
          "text": [
            "<re.Match object; span=(3, 6), match='abc'>\n"
          ]
        }
      ]
    },
    {
      "cell_type": "markdown",
      "source": [
        "Methods on Match object\n",
        "\n",
        "group(): Return the string matched by the RE\n",
        "\n",
        "start(): Return the starting position of the match\n",
        "\n",
        "end(): Return the ending position of the match\n",
        "\n",
        "span(): Return a tuple containing the (start, end) positions of the match"
      ],
      "metadata": {
        "id": "Z-f9urEtZBa9"
      }
    },
    {
      "cell_type": "code",
      "source": [
        "pattern = re.compile(r'abc')\n",
        "matches = pattern.finditer(test_string)\n",
        "for match in matches:\n",
        "    print(match.span(), match.start(), match.end())"
      ],
      "metadata": {
        "colab": {
          "base_uri": "https://localhost:8080/"
        },
        "id": "njZNZLWZY7XG",
        "outputId": "612f996d-ea48-4741-8fc1-917db3298fe7"
      },
      "execution_count": 23,
      "outputs": [
        {
          "output_type": "stream",
          "name": "stdout",
          "text": [
            "(3, 6) 3 6\n",
            "(9, 12) 9 12\n"
          ]
        }
      ]
    },
    {
      "cell_type": "code",
      "source": [
        "pattern = re.compile(r'abc')\n",
        "matches = pattern.finditer(test_string)\n",
        "for match in matches:\n",
        " print(match.group())"
      ],
      "metadata": {
        "colab": {
          "base_uri": "https://localhost:8080/"
        },
        "id": "Ymvr4zF7Zhhw",
        "outputId": "2fab488c-bdb7-4eef-b61e-433e4a6ab86f"
      },
      "execution_count": 24,
      "outputs": [
        {
          "output_type": "stream",
          "name": "stdout",
          "text": [
            "abc\n",
            "abc\n"
          ]
        }
      ]
    },
    {
      "cell_type": "code",
      "source": [
        "# All meta characters . ^ $ * + ? { } \\ | ( ) Note: Meta characters need to be escaped (with ) if we actually want to search for the char.\n",
        "\n",
        "# . any character (except new line character)\n",
        "# ^ startswith \"^hello\"\n",
        "# \"\n",
        "# zero or more occurances\n",
        "# one or more occurances\n",
        "# {} exactly specified no of occurances \"al{2}\"\n",
        "# [] A set of characters \"[a-m]\"\n",
        "# \\ Signals a special sequence (can also be used to escape special characters) \"\\d\"\n",
        "# | Either or \"falls|stays\"\n",
        "# ( ) Capture and group More Metacharacters / Special Sequences A special sequence is a \\ followed by one of the characters in the list below, and has a special meaning:\n",
        "# \\d :Matches any decimal digit; this is equivalent to the class [0-9].\n",
        "# \\D : Matches any non-digit character; this is equivalent to the class [^0-9].\n",
        "# \\s : Matches any whitespace character;\n",
        "# \\S : Matches any non-whitespace character;\n",
        "# \\w : Matches any alphanumeric (word) character; this is equivalent to the class [a-zA-Z0-9_].\n",
        "# \\W : Matches any non-alphanumeric character; this is equivalent to the class [^a-zA-Z0-9_].\n",
        "# \\b Returns a match where the specified characters are at the beginning or at the end of a word r\"\\bain\" r\"ain\\b\"\n",
        "# \\B Returns a match where the specified characters are present, but NOT at the beginning (or at the end) of a word r\"\\Bain\" r\"ain\\B\"\n",
        "# \\A Returns a match if the specified characters are at the beginning of the string \"\\AThe\"\n",
        "# \\Z Returns a match if the specified characters are at the end of the string \"Spain\\Z\""
      ],
      "metadata": {
        "id": "NqA6fzvhZk-v"
      },
      "execution_count": 25,
      "outputs": []
    },
    {
      "cell_type": "code",
      "source": [
        "pattern = re.compile(r\".\")\n",
        "#dot (.) is a special character in regex that matches any character except a newline\n",
        "matches = pattern.finditer(test_string)\n",
        "for match in matches:\n",
        " print(match.group(), end = \" \")"
      ],
      "metadata": {
        "colab": {
          "base_uri": "https://localhost:8080/"
        },
        "id": "4IN5iuMBZyKq",
        "outputId": "0adeb45e-9ed5-4d24-87e5-81782f0c952e"
      },
      "execution_count": 31,
      "outputs": [
        {
          "output_type": "stream",
          "name": "stdout",
          "text": [
            "1 2 3 a b c 5 6 7 a b c A B C "
          ]
        }
      ]
    },
    {
      "cell_type": "code",
      "source": [],
      "metadata": {
        "id": "L9cMTDshZ3B_"
      },
      "execution_count": null,
      "outputs": []
    }
  ]
}